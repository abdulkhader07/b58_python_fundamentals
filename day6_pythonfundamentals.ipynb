{
 "cells": [
  {
   "cell_type": "code",
   "execution_count": 1,
   "id": "b26f3647",
   "metadata": {},
   "outputs": [],
   "source": [
    "# introduction to looping statements:"
   ]
  },
  {
   "cell_type": "code",
   "execution_count": null,
   "id": "96131f95",
   "metadata": {},
   "outputs": [],
   "source": [
    "concept of for loops:"
   ]
  },
  {
   "cell_type": "code",
   "execution_count": 2,
   "id": "73c338f6",
   "metadata": {},
   "outputs": [],
   "source": [
    "students = ['kumar','naveen','vinaya','samreen','naveed','sohail']"
   ]
  },
  {
   "cell_type": "code",
   "execution_count": 3,
   "id": "6f1c3553",
   "metadata": {},
   "outputs": [
    {
     "name": "stdout",
     "output_type": "stream",
     "text": [
      "['kumar', 'naveen', 'vinaya', 'samreen', 'naveed', 'sohail']\n"
     ]
    }
   ],
   "source": [
    "print(students)"
   ]
  },
  {
   "cell_type": "code",
   "execution_count": null,
   "id": "ae60c925",
   "metadata": {},
   "outputs": [],
   "source": []
  },
  {
   "cell_type": "code",
   "execution_count": 5,
   "id": "f8004925",
   "metadata": {},
   "outputs": [],
   "source": [
    "#1st approach:"
   ]
  },
  {
   "cell_type": "code",
   "execution_count": 7,
   "id": "c8155b63",
   "metadata": {},
   "outputs": [
    {
     "name": "stdout",
     "output_type": "stream",
     "text": [
      "keep up the good work, kumar\n"
     ]
    }
   ],
   "source": [
    "message = f\"keep up the good work, {students[0]}\"\n",
    "print(message)"
   ]
  },
  {
   "cell_type": "markdown",
   "id": "92ccb259",
   "metadata": {},
   "source": []
  },
  {
   "cell_type": "code",
   "execution_count": 8,
   "id": "dd9b50e0",
   "metadata": {},
   "outputs": [],
   "source": [
    "message = f\"keep up the good work,{students[1]}\" "
   ]
  },
  {
   "cell_type": "code",
   "execution_count": 9,
   "id": "8c9ad5aa",
   "metadata": {},
   "outputs": [
    {
     "name": "stdout",
     "output_type": "stream",
     "text": [
      "keep up the good work,naveen\n"
     ]
    }
   ],
   "source": [
    "print(message)"
   ]
  },
  {
   "cell_type": "code",
   "execution_count": null,
   "id": "d488e457",
   "metadata": {},
   "outputs": [],
   "source": []
  },
  {
   "cell_type": "code",
   "execution_count": 10,
   "id": "229f532e",
   "metadata": {},
   "outputs": [
    {
     "name": "stdout",
     "output_type": "stream",
     "text": [
      "keep up the good work,Naveen\n"
     ]
    }
   ],
   "source": [
    "message = f\"keep up the good work,{students[1].title()}\"\n",
    "print(message)"
   ]
  },
  {
   "cell_type": "code",
   "execution_count": null,
   "id": "a96218f4",
   "metadata": {},
   "outputs": [],
   "source": []
  },
  {
   "cell_type": "code",
   "execution_count": 11,
   "id": "74356dba",
   "metadata": {},
   "outputs": [
    {
     "name": "stdout",
     "output_type": "stream",
     "text": [
      "keep up the good work,NAVEEN\n"
     ]
    }
   ],
   "source": [
    "message = f\"keep up the good work,{students[1].upper()}\"\n",
    "print(message)"
   ]
  },
  {
   "cell_type": "code",
   "execution_count": null,
   "id": "dbbd6284",
   "metadata": {},
   "outputs": [],
   "source": []
  },
  {
   "cell_type": "code",
   "execution_count": 12,
   "id": "2a9ed2b0",
   "metadata": {},
   "outputs": [],
   "source": [
    "#general syntax of for loop:"
   ]
  },
  {
   "cell_type": "code",
   "execution_count": null,
   "id": "5fe9baa3",
   "metadata": {},
   "outputs": [],
   "source": [
    "for tempvar in mainvar:\n",
    "    print(tempvar)               #method"
   ]
  },
  {
   "cell_type": "code",
   "execution_count": 13,
   "id": "00345a9a",
   "metadata": {},
   "outputs": [
    {
     "name": "stdout",
     "output_type": "stream",
     "text": [
      "keep up the good work,Kumar\n",
      "keep up the good work,Naveen\n",
      "keep up the good work,Vinaya\n",
      "keep up the good work,Samreen\n",
      "keep up the good work,Naveed\n",
      "keep up the good work,Sohail\n"
     ]
    }
   ],
   "source": [
    "for x in students:\n",
    "    print(f\"keep up the good work,{x.title()}\" )"
   ]
  },
  {
   "cell_type": "code",
   "execution_count": null,
   "id": "3d903a7f",
   "metadata": {},
   "outputs": [],
   "source": []
  },
  {
   "cell_type": "code",
   "execution_count": 15,
   "id": "40d0f23e",
   "metadata": {},
   "outputs": [
    {
     "name": "stdout",
     "output_type": "stream",
     "text": [
      "keep up the good work,Kumar\n",
      "keep up the good work,Naveen\n",
      "keep up the good work,Vinaya\n",
      "keep up the good work,Samreen\n",
      "keep up the good work,Naveed\n",
      "keep up the good work,Sohail\n"
     ]
    }
   ],
   "source": [
    "for ironman in students:\n",
    "    print(f\"keep up the good work,{ironman.title()}\")"
   ]
  },
  {
   "cell_type": "code",
   "execution_count": 18,
   "id": "a5b0ed6b",
   "metadata": {},
   "outputs": [
    {
     "name": "stdout",
     "output_type": "stream",
     "text": [
      "keep up the good work,KUMAR\n",
      "keep up the good work,NAVEEN\n",
      "keep up the good work,VINAYA\n",
      "keep up the good work,SAMREEN\n",
      "keep up the good work,NAVEED\n",
      "keep up the good work,SOHAIL\n"
     ]
    }
   ],
   "source": [
    "for x in students:\n",
    "    print(f\"keep up the good work,{x.upper()}\")"
   ]
  },
  {
   "cell_type": "code",
   "execution_count": null,
   "id": "9d1fa704",
   "metadata": {},
   "outputs": [],
   "source": []
  },
  {
   "cell_type": "code",
   "execution_count": 19,
   "id": "200c1ea5",
   "metadata": {},
   "outputs": [],
   "source": [
    "#enhancment of the code....."
   ]
  },
  {
   "cell_type": "code",
   "execution_count": 21,
   "id": "96f67028",
   "metadata": {},
   "outputs": [
    {
     "name": "stdout",
     "output_type": "stream",
     "text": [
      "keep up the good work,Kumar\n",
      "i will be looking forward to receive your given githuburl for today,Kumar\n",
      "keep up the good work,Naveen\n",
      "i will be looking forward to receive your given githuburl for today,Naveen\n",
      "keep up the good work,Vinaya\n",
      "i will be looking forward to receive your given githuburl for today,Vinaya\n",
      "keep up the good work,Samreen\n",
      "i will be looking forward to receive your given githuburl for today,Samreen\n",
      "keep up the good work,Naveed\n",
      "i will be looking forward to receive your given githuburl for today,Naveed\n",
      "keep up the good work,Sohail\n",
      "i will be looking forward to receive your given githuburl for today,Sohail\n"
     ]
    }
   ],
   "source": [
    "for x in students:\n",
    "    print(f\"keep up the good work,{x.title()}\")\n",
    "    print(f\"i will be looking forward to receive your given githuburl for today,{x.title()}\")"
   ]
  },
  {
   "cell_type": "code",
   "execution_count": null,
   "id": "2f63fa72",
   "metadata": {},
   "outputs": [],
   "source": []
  },
  {
   "cell_type": "code",
   "execution_count": 24,
   "id": "917714a0",
   "metadata": {},
   "outputs": [
    {
     "name": "stdout",
     "output_type": "stream",
     "text": [
      "123456789.1,Kumar\n",
      "123456789.1,Naveen\n",
      "123456789.1,Vinaya\n",
      "123456789.1,Samreen\n",
      "123456789.1,Naveed\n",
      "123456789.1,Sohail\n"
     ]
    }
   ],
   "source": [
    "for x in students:\n",
    "    print(f\"123456789.1,{x.title()}\")"
   ]
  },
  {
   "cell_type": "code",
   "execution_count": null,
   "id": "26936ea4",
   "metadata": {},
   "outputs": [],
   "source": []
  },
  {
   "cell_type": "code",
   "execution_count": 28,
   "id": "28421260",
   "metadata": {},
   "outputs": [
    {
     "name": "stdout",
     "output_type": "stream",
     "text": [
      "keep up the good work,Kumar\n",
      "i will be looking forward to receive your given githuburl for today,Kumar\n",
      "\n",
      "keep up the good work,Naveen\n",
      "i will be looking forward to receive your given githuburl for today,Naveen\n",
      "\n",
      "keep up the good work,Vinaya\n",
      "i will be looking forward to receive your given githuburl for today,Vinaya\n",
      "\n",
      "keep up the good work,Samreen\n",
      "i will be looking forward to receive your given githuburl for today,Samreen\n",
      "\n",
      "keep up the good work,Naveed\n",
      "i will be looking forward to receive your given githuburl for today,Naveed\n",
      "\n",
      "keep up the good work,Sohail\n",
      "i will be looking forward to receive your given githuburl for today,Sohail\n",
      "\n",
      "thank you for all joining\n"
     ]
    }
   ],
   "source": [
    "for x in students:\n",
    "    print(f\"keep up the good work,{x.title()}\")\n",
    "    print(f\"i will be looking forward to receive your given githuburl for today,{x.title()}\\n\");\n",
    "    \n",
    "print(\"thank you for all joining\")"
   ]
  },
  {
   "cell_type": "code",
   "execution_count": null,
   "id": "4750ac38",
   "metadata": {},
   "outputs": [],
   "source": []
  },
  {
   "cell_type": "code",
   "execution_count": 29,
   "id": "6503f80b",
   "metadata": {},
   "outputs": [],
   "source": [
    "#indentation"
   ]
  },
  {
   "cell_type": "code",
   "execution_count": 31,
   "id": "1b0a6bcf",
   "metadata": {},
   "outputs": [
    {
     "ename": "IndentationError",
     "evalue": "expected an indented block (Temp/ipykernel_5448/2829379544.py, line 2)",
     "output_type": "error",
     "traceback": [
      "\u001b[1;36m  File \u001b[1;32m\"C:\\Users\\amjad\\AppData\\Local\\Temp/ipykernel_5448/2829379544.py\"\u001b[1;36m, line \u001b[1;32m2\u001b[0m\n\u001b[1;33m    print(tempvar)\u001b[0m\n\u001b[1;37m    ^\u001b[0m\n\u001b[1;31mIndentationError\u001b[0m\u001b[1;31m:\u001b[0m expected an indented block\n"
     ]
    }
   ],
   "source": [
    "for tempvar in mainvar:\n",
    "print(tempvar)"
   ]
  },
  {
   "cell_type": "code",
   "execution_count": 32,
   "id": "1bef1e26",
   "metadata": {},
   "outputs": [],
   "source": [
    "# indentation means space which comes before print"
   ]
  },
  {
   "cell_type": "code",
   "execution_count": null,
   "id": "9f78ceb9",
   "metadata": {},
   "outputs": [],
   "source": []
  },
  {
   "cell_type": "code",
   "execution_count": null,
   "id": "5849afe7",
   "metadata": {},
   "outputs": [],
   "source": []
  }
 ],
 "metadata": {
  "kernelspec": {
   "display_name": "Python 3 (ipykernel)",
   "language": "python",
   "name": "python3"
  },
  "language_info": {
   "codemirror_mode": {
    "name": "ipython",
    "version": 3
   },
   "file_extension": ".py",
   "mimetype": "text/x-python",
   "name": "python",
   "nbconvert_exporter": "python",
   "pygments_lexer": "ipython3",
   "version": "3.9.7"
  }
 },
 "nbformat": 4,
 "nbformat_minor": 5
}
