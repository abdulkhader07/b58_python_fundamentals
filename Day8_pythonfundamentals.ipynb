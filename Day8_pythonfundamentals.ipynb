{
 "cells": [
  {
   "cell_type": "code",
   "execution_count": 1,
   "id": "44aa9251",
   "metadata": {},
   "outputs": [],
   "source": [
    "#introduction to dictionary datatype:"
   ]
  },
  {
   "cell_type": "code",
   "execution_count": null,
   "id": "6aaa13b5",
   "metadata": {},
   "outputs": [],
   "source": []
  },
  {
   "cell_type": "code",
   "execution_count": 2,
   "id": "f1032cb4",
   "metadata": {},
   "outputs": [],
   "source": [
    "#designing a alien game ....?"
   ]
  },
  {
   "cell_type": "code",
   "execution_count": 3,
   "id": "8c701be4",
   "metadata": {},
   "outputs": [],
   "source": [
    "alien = {'colour':'green','point':5}"
   ]
  },
  {
   "cell_type": "code",
   "execution_count": 4,
   "id": "998d77a2",
   "metadata": {},
   "outputs": [
    {
     "name": "stdout",
     "output_type": "stream",
     "text": [
      "{'colour': 'green', 'point': 5}\n"
     ]
    }
   ],
   "source": [
    "print(alien)"
   ]
  },
  {
   "cell_type": "code",
   "execution_count": null,
   "id": "132cfdc9",
   "metadata": {},
   "outputs": [],
   "source": []
  },
  {
   "cell_type": "code",
   "execution_count": 5,
   "id": "8623e86e",
   "metadata": {},
   "outputs": [
    {
     "data": {
      "text/plain": [
       "dict"
      ]
     },
     "execution_count": 5,
     "metadata": {},
     "output_type": "execute_result"
    }
   ],
   "source": [
    "type(alien)"
   ]
  },
  {
   "cell_type": "code",
   "execution_count": 6,
   "id": "f3df8567",
   "metadata": {},
   "outputs": [],
   "source": [
    "#how to access the elements in the dict...?"
   ]
  },
  {
   "cell_type": "code",
   "execution_count": 7,
   "id": "3bc5810b",
   "metadata": {},
   "outputs": [
    {
     "name": "stdout",
     "output_type": "stream",
     "text": [
      "green\n"
     ]
    }
   ],
   "source": [
    "print(alien['colour'])"
   ]
  },
  {
   "cell_type": "code",
   "execution_count": null,
   "id": "bc9e3db2",
   "metadata": {},
   "outputs": [],
   "source": [
    "note:give the key and get the value.\n",
    "    in a dict keys will be acting as an indexes."
   ]
  },
  {
   "cell_type": "code",
   "execution_count": null,
   "id": "c86a067b",
   "metadata": {},
   "outputs": [],
   "source": []
  },
  {
   "cell_type": "code",
   "execution_count": 9,
   "id": "4bfeeade",
   "metadata": {},
   "outputs": [
    {
     "name": "stdout",
     "output_type": "stream",
     "text": [
      "5\n"
     ]
    }
   ],
   "source": [
    "print(alien['point'])"
   ]
  },
  {
   "cell_type": "code",
   "execution_count": null,
   "id": "2748087b",
   "metadata": {},
   "outputs": [],
   "source": []
  },
  {
   "cell_type": "code",
   "execution_count": 10,
   "id": "fb29553a",
   "metadata": {},
   "outputs": [],
   "source": [
    "#we cannot give 5 and get that its points..."
   ]
  },
  {
   "cell_type": "code",
   "execution_count": null,
   "id": "34fa8834",
   "metadata": {},
   "outputs": [],
   "source": []
  },
  {
   "cell_type": "code",
   "execution_count": 11,
   "id": "eabd891e",
   "metadata": {},
   "outputs": [],
   "source": [
    "#how to add any new key values to the dictionary...?\n",
    "#req : i want to add start position....?0"
   ]
  },
  {
   "cell_type": "code",
   "execution_count": 12,
   "id": "fce74da4",
   "metadata": {},
   "outputs": [
    {
     "name": "stdout",
     "output_type": "stream",
     "text": [
      "{'colour': 'green', 'point': 5, 'start_position': 0}\n"
     ]
    }
   ],
   "source": [
    "alien['start_position'] = 0\n",
    "print(alien)"
   ]
  },
  {
   "cell_type": "code",
   "execution_count": null,
   "id": "ffd67837",
   "metadata": {},
   "outputs": [],
   "source": []
  },
  {
   "cell_type": "code",
   "execution_count": 13,
   "id": "bc0fbbfa",
   "metadata": {},
   "outputs": [],
   "source": [
    "#facebook: create new user account in facebook...?"
   ]
  },
  {
   "cell_type": "code",
   "execution_count": 25,
   "id": "48da9b18",
   "metadata": {},
   "outputs": [
    {
     "name": "stdout",
     "output_type": "stream",
     "text": [
      "{'username': 'adnan', 'firsrtname': 'adn', 'lastname': 'nan', 'dob': '01-02-3300', 'pwd': '1111'}\n"
     ]
    }
   ],
   "source": [
    "username = {'username':'adnan','firsrtname':'adn','lastname':'nan','dob':'01-02-3300','pwd':'1111'}\n",
    "print(username)"
   ]
  },
  {
   "cell_type": "code",
   "execution_count": null,
   "id": "2720376d",
   "metadata": {},
   "outputs": [],
   "source": []
  },
  {
   "cell_type": "code",
   "execution_count": 26,
   "id": "8d0eef04",
   "metadata": {},
   "outputs": [
    {
     "data": {
      "text/plain": [
       "dict"
      ]
     },
     "execution_count": 26,
     "metadata": {},
     "output_type": "execute_result"
    }
   ],
   "source": [
    "type(username)"
   ]
  },
  {
   "cell_type": "code",
   "execution_count": null,
   "id": "7970341a",
   "metadata": {},
   "outputs": [],
   "source": []
  },
  {
   "cell_type": "code",
   "execution_count": 29,
   "id": "e8f6ea6b",
   "metadata": {},
   "outputs": [
    {
     "name": "stdout",
     "output_type": "stream",
     "text": [
      "{'username': 'adnan', 'firsrtname': 'adn', 'lastname': 'nan', 'dob': '01-02-3300', 'pwd': '1111', 'dinner': 'shadab hotel'}\n"
     ]
    }
   ],
   "source": [
    "username ['dinner'] = 'shadab hotel'\n",
    "print(username)"
   ]
  },
  {
   "cell_type": "code",
   "execution_count": null,
   "id": "40ca0406",
   "metadata": {},
   "outputs": [],
   "source": [
    "#how to modify the values in a dictionary....?"
   ]
  },
  {
   "cell_type": "code",
   "execution_count": 30,
   "id": "e980faf1",
   "metadata": {},
   "outputs": [
    {
     "name": "stdout",
     "output_type": "stream",
     "text": [
      "{'colour': 'green', 'point': 5, 'start_position': 0}\n"
     ]
    }
   ],
   "source": [
    "print(alien)"
   ]
  },
  {
   "cell_type": "code",
   "execution_count": 32,
   "id": "30cbc7be",
   "metadata": {},
   "outputs": [],
   "source": [
    "#green---> yellow.."
   ]
  },
  {
   "cell_type": "code",
   "execution_count": null,
   "id": "ea9a2bf0",
   "metadata": {},
   "outputs": [],
   "source": []
  },
  {
   "cell_type": "code",
   "execution_count": 33,
   "id": "17f39ac3",
   "metadata": {},
   "outputs": [],
   "source": [
    "alien['colour'] = 'yellow'"
   ]
  },
  {
   "cell_type": "code",
   "execution_count": 34,
   "id": "1ea835a1",
   "metadata": {},
   "outputs": [
    {
     "name": "stdout",
     "output_type": "stream",
     "text": [
      "{'colour': 'yellow', 'point': 5, 'start_position': 0}\n"
     ]
    }
   ],
   "source": [
    "print(alien)"
   ]
  },
  {
   "cell_type": "code",
   "execution_count": 35,
   "id": "7c1b64f5",
   "metadata": {},
   "outputs": [],
   "source": [
    "#friend has seen your password ...and you are worried about passwor...lets change the password..."
   ]
  },
  {
   "cell_type": "code",
   "execution_count": 36,
   "id": "19cbc1a8",
   "metadata": {},
   "outputs": [],
   "source": [
    "username ['pwd'] = '54321'"
   ]
  },
  {
   "cell_type": "code",
   "execution_count": 37,
   "id": "4cc0ef35",
   "metadata": {},
   "outputs": [
    {
     "name": "stdout",
     "output_type": "stream",
     "text": [
      "{'username': 'adnan', 'firsrtname': 'adn', 'lastname': 'nan', 'dob': '01-02-3300', 'pwd': '54321', 'dinner': 'shadab hotel'}\n"
     ]
    }
   ],
   "source": [
    "print(username)"
   ]
  },
  {
   "cell_type": "code",
   "execution_count": 38,
   "id": "9f1d0ae5",
   "metadata": {},
   "outputs": [],
   "source": [
    "# how to delete the elements in dictionary....?"
   ]
  },
  {
   "cell_type": "code",
   "execution_count": 39,
   "id": "f2e75ffe",
   "metadata": {},
   "outputs": [
    {
     "name": "stdout",
     "output_type": "stream",
     "text": [
      "{'colour': 'yellow', 'point': 5, 'start_position': 0}\n"
     ]
    }
   ],
   "source": [
    "print (alien)"
   ]
  },
  {
   "cell_type": "code",
   "execution_count": 41,
   "id": "263b72a2",
   "metadata": {},
   "outputs": [],
   "source": [
    "del alien['point']"
   ]
  },
  {
   "cell_type": "code",
   "execution_count": 42,
   "id": "35adcd5e",
   "metadata": {},
   "outputs": [
    {
     "name": "stdout",
     "output_type": "stream",
     "text": [
      "{'colour': 'yellow', 'start_position': 0}\n"
     ]
    }
   ],
   "source": [
    "print(alien)"
   ]
  },
  {
   "cell_type": "code",
   "execution_count": null,
   "id": "9f1cfb87",
   "metadata": {},
   "outputs": [],
   "source": []
  }
 ],
 "metadata": {
  "kernelspec": {
   "display_name": "Python 3 (ipykernel)",
   "language": "python",
   "name": "python3"
  },
  "language_info": {
   "codemirror_mode": {
    "name": "ipython",
    "version": 3
   },
   "file_extension": ".py",
   "mimetype": "text/x-python",
   "name": "python",
   "nbconvert_exporter": "python",
   "pygments_lexer": "ipython3",
   "version": "3.9.7"
  }
 },
 "nbformat": 4,
 "nbformat_minor": 5
}
