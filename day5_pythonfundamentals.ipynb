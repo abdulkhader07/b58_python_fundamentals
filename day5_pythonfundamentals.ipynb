{
 "cells": [
  {
   "cell_type": "code",
   "execution_count": 1,
   "id": "ee5d2486",
   "metadata": {},
   "outputs": [],
   "source": [
    "#continuation with list datatype "
   ]
  },
  {
   "cell_type": "code",
   "execution_count": 3,
   "id": "4e5f08a3",
   "metadata": {},
   "outputs": [],
   "source": [
    "#organizing the list datatype"
   ]
  },
  {
   "cell_type": "code",
   "execution_count": null,
   "id": "9a9ba484",
   "metadata": {},
   "outputs": [],
   "source": []
  },
  {
   "cell_type": "code",
   "execution_count": 4,
   "id": "d51776ba",
   "metadata": {},
   "outputs": [
    {
     "name": "stdout",
     "output_type": "stream",
     "text": [
      "['kia', 'suzuki', 'audi', 'tata', 'benz']\n"
     ]
    }
   ],
   "source": [
    "cars = ['kia','suzuki','audi','tata','benz']\n",
    "print(cars)"
   ]
  },
  {
   "cell_type": "code",
   "execution_count": null,
   "id": "a1a45f52",
   "metadata": {},
   "outputs": [],
   "source": []
  },
  {
   "cell_type": "code",
   "execution_count": 5,
   "id": "fc5193aa",
   "metadata": {},
   "outputs": [
    {
     "name": "stdout",
     "output_type": "stream",
     "text": [
      "['audi', 'benz', 'kia', 'suzuki', 'tata']\n"
     ]
    }
   ],
   "source": [
    "print(sorted(cars)) #sorted temperarily"
   ]
  },
  {
   "cell_type": "code",
   "execution_count": null,
   "id": "a7947927",
   "metadata": {},
   "outputs": [],
   "source": []
  },
  {
   "cell_type": "code",
   "execution_count": 6,
   "id": "ba6a7e1d",
   "metadata": {},
   "outputs": [
    {
     "name": "stdout",
     "output_type": "stream",
     "text": [
      "['kia', 'suzuki', 'audi', 'tata', 'benz']\n"
     ]
    }
   ],
   "source": [
    "print(cars)"
   ]
  },
  {
   "cell_type": "code",
   "execution_count": null,
   "id": "b2f8c28b",
   "metadata": {},
   "outputs": [],
   "source": [
    "#display the list in alphabetical order"
   ]
  },
  {
   "cell_type": "code",
   "execution_count": null,
   "id": "bcdae085",
   "metadata": {},
   "outputs": [],
   "source": [
    "1. temp approch ---> sorted #command"
   ]
  },
  {
   "cell_type": "code",
   "execution_count": null,
   "id": "213a4bde",
   "metadata": {},
   "outputs": [],
   "source": [
    "2. parmanent approch ---> sort #command"
   ]
  },
  {
   "cell_type": "code",
   "execution_count": null,
   "id": "b1964276",
   "metadata": {},
   "outputs": [],
   "source": []
  },
  {
   "cell_type": "code",
   "execution_count": 7,
   "id": "1c26b648",
   "metadata": {},
   "outputs": [
    {
     "name": "stdout",
     "output_type": "stream",
     "text": [
      "['audi', 'benz', 'kia', 'suzuki', 'tata']\n"
     ]
    }
   ],
   "source": [
    "cars.sort()\n",
    "print (cars)"
   ]
  },
  {
   "cell_type": "code",
   "execution_count": null,
   "id": "256e1258",
   "metadata": {},
   "outputs": [],
   "source": []
  },
  {
   "cell_type": "code",
   "execution_count": 8,
   "id": "803839d7",
   "metadata": {},
   "outputs": [
    {
     "name": "stdout",
     "output_type": "stream",
     "text": [
      "['audi', 'benz', 'kia', 'suzuki', 'tata']\n"
     ]
    }
   ],
   "source": [
    "print (cars)"
   ]
  },
  {
   "cell_type": "code",
   "execution_count": 9,
   "id": "2453bbeb",
   "metadata": {},
   "outputs": [],
   "source": [
    "#sorted parmanently"
   ]
  },
  {
   "cell_type": "code",
   "execution_count": null,
   "id": "c5f88dee",
   "metadata": {},
   "outputs": [],
   "source": []
  },
  {
   "cell_type": "code",
   "execution_count": null,
   "id": "41610c8a",
   "metadata": {},
   "outputs": [],
   "source": [
    "interview: what is the difference between sorted and sort"
   ]
  },
  {
   "cell_type": "code",
   "execution_count": null,
   "id": "bfaaaccc",
   "metadata": {},
   "outputs": [],
   "source": []
  },
  {
   "cell_type": "code",
   "execution_count": 10,
   "id": "156ee06e",
   "metadata": {},
   "outputs": [],
   "source": [
    "#print in reverse order"
   ]
  },
  {
   "cell_type": "code",
   "execution_count": 11,
   "id": "1bf59940",
   "metadata": {},
   "outputs": [],
   "source": [
    "cars.reverse()"
   ]
  },
  {
   "cell_type": "code",
   "execution_count": 12,
   "id": "dcc896fb",
   "metadata": {},
   "outputs": [
    {
     "name": "stdout",
     "output_type": "stream",
     "text": [
      "['tata', 'suzuki', 'kia', 'benz', 'audi']\n"
     ]
    }
   ],
   "source": [
    "print(cars)"
   ]
  },
  {
   "cell_type": "code",
   "execution_count": null,
   "id": "333d55f0",
   "metadata": {},
   "outputs": [],
   "source": []
  },
  {
   "cell_type": "code",
   "execution_count": 13,
   "id": "81cc4cc5",
   "metadata": {},
   "outputs": [],
   "source": [
    "cars.append('bmw')"
   ]
  },
  {
   "cell_type": "code",
   "execution_count": 14,
   "id": "fd12d0c8",
   "metadata": {},
   "outputs": [
    {
     "name": "stdout",
     "output_type": "stream",
     "text": [
      "['tata', 'suzuki', 'kia', 'benz', 'audi', 'bmw']\n"
     ]
    }
   ],
   "source": [
    "print(cars)"
   ]
  },
  {
   "cell_type": "code",
   "execution_count": null,
   "id": "0aac2d1e",
   "metadata": {},
   "outputs": [],
   "source": []
  },
  {
   "cell_type": "code",
   "execution_count": 15,
   "id": "3ef078d4",
   "metadata": {},
   "outputs": [],
   "source": [
    "cars.sort()"
   ]
  },
  {
   "cell_type": "code",
   "execution_count": 16,
   "id": "29f51877",
   "metadata": {},
   "outputs": [
    {
     "name": "stdout",
     "output_type": "stream",
     "text": [
      "['audi', 'benz', 'bmw', 'kia', 'suzuki', 'tata']\n"
     ]
    }
   ],
   "source": [
    "print(cars)"
   ]
  },
  {
   "cell_type": "code",
   "execution_count": null,
   "id": "67083832",
   "metadata": {},
   "outputs": [],
   "source": []
  },
  {
   "cell_type": "code",
   "execution_count": 17,
   "id": "1935ea2a",
   "metadata": {},
   "outputs": [],
   "source": [
    "#counting number of elements in the list.....??"
   ]
  },
  {
   "cell_type": "code",
   "execution_count": 18,
   "id": "9fe4a55b",
   "metadata": {},
   "outputs": [
    {
     "data": {
      "text/plain": [
       "6"
      ]
     },
     "execution_count": 18,
     "metadata": {},
     "output_type": "execute_result"
    }
   ],
   "source": [
    "len(cars)"
   ]
  },
  {
   "cell_type": "code",
   "execution_count": null,
   "id": "fd37686e",
   "metadata": {},
   "outputs": [],
   "source": []
  },
  {
   "cell_type": "code",
   "execution_count": null,
   "id": "55ae6702",
   "metadata": {},
   "outputs": [],
   "source": [
    "intrroduction to slicing"
   ]
  },
  {
   "cell_type": "code",
   "execution_count": null,
   "id": "e3b6851a",
   "metadata": {},
   "outputs": [],
   "source": []
  },
  {
   "cell_type": "code",
   "execution_count": 19,
   "id": "17320f5f",
   "metadata": {},
   "outputs": [
    {
     "name": "stdout",
     "output_type": "stream",
     "text": [
      "['ravi', 'joseph', 'naveed', 'imran', 'keerthi', 'shaheen', 'dolly', 'roohi']\n"
     ]
    }
   ],
   "source": [
    "students = ['ravi','joseph','naveed','imran','keerthi','shaheen','dolly','roohi']\n",
    "print(students)"
   ]
  },
  {
   "cell_type": "code",
   "execution_count": null,
   "id": "c10b30ed",
   "metadata": {},
   "outputs": [],
   "source": []
  },
  {
   "cell_type": "code",
   "execution_count": 20,
   "id": "a3149f92",
   "metadata": {},
   "outputs": [
    {
     "data": {
      "text/plain": [
       "list"
      ]
     },
     "execution_count": 20,
     "metadata": {},
     "output_type": "execute_result"
    }
   ],
   "source": [
    "type(students)"
   ]
  },
  {
   "cell_type": "code",
   "execution_count": null,
   "id": "ac0dafed",
   "metadata": {},
   "outputs": [],
   "source": []
  },
  {
   "cell_type": "code",
   "execution_count": 21,
   "id": "1b992b2e",
   "metadata": {},
   "outputs": [
    {
     "name": "stdout",
     "output_type": "stream",
     "text": [
      "['ravi']\n"
     ]
    }
   ],
   "source": [
    "print(students[0:1])"
   ]
  },
  {
   "cell_type": "code",
   "execution_count": 22,
   "id": "eb64c922",
   "metadata": {},
   "outputs": [
    {
     "name": "stdout",
     "output_type": "stream",
     "text": [
      "['ravi', 'joseph']\n"
     ]
    }
   ],
   "source": [
    "print(students[0:2])"
   ]
  },
  {
   "cell_type": "code",
   "execution_count": null,
   "id": "230d0454",
   "metadata": {},
   "outputs": [],
   "source": []
  },
  {
   "cell_type": "code",
   "execution_count": null,
   "id": "ec08897d",
   "metadata": {},
   "outputs": [],
   "source": [
    "req 2 :  naveed and imran"
   ]
  },
  {
   "cell_type": "code",
   "execution_count": 23,
   "id": "8cd237dd",
   "metadata": {},
   "outputs": [
    {
     "name": "stdout",
     "output_type": "stream",
     "text": [
      "['naveed', 'imran']\n"
     ]
    }
   ],
   "source": [
    "print(students[2:4])"
   ]
  },
  {
   "cell_type": "code",
   "execution_count": null,
   "id": "ff67c3ee",
   "metadata": {},
   "outputs": [],
   "source": []
  },
  {
   "cell_type": "code",
   "execution_count": 25,
   "id": "c79324a9",
   "metadata": {},
   "outputs": [],
   "source": [
    "#req 3 : dolly and roohi"
   ]
  },
  {
   "cell_type": "code",
   "execution_count": 29,
   "id": "27d36486",
   "metadata": {},
   "outputs": [
    {
     "name": "stdout",
     "output_type": "stream",
     "text": [
      "['dolly', 'roohi']\n"
     ]
    }
   ],
   "source": [
    "print (students[6:8])"
   ]
  },
  {
   "cell_type": "code",
   "execution_count": null,
   "id": "79ccbfbb",
   "metadata": {},
   "outputs": [],
   "source": []
  },
  {
   "cell_type": "code",
   "execution_count": null,
   "id": "14015a97",
   "metadata": {},
   "outputs": [],
   "source": [
    "syntax of slicing"
   ]
  },
  {
   "cell_type": "code",
   "execution_count": null,
   "id": "0e99804c",
   "metadata": {},
   "outputs": [],
   "source": [
    "list[startvalue:stopvalue:stepcount]"
   ]
  },
  {
   "cell_type": "code",
   "execution_count": null,
   "id": "3ed63470",
   "metadata": {},
   "outputs": [],
   "source": []
  },
  {
   "cell_type": "code",
   "execution_count": 30,
   "id": "c1c5064b",
   "metadata": {},
   "outputs": [],
   "source": [
    "#what is stepcount have function"
   ]
  },
  {
   "cell_type": "code",
   "execution_count": 31,
   "id": "10f8d6bd",
   "metadata": {},
   "outputs": [
    {
     "name": "stdout",
     "output_type": "stream",
     "text": [
      "['ravi', 'joseph', 'naveed', 'imran', 'keerthi', 'shaheen', 'dolly', 'roohi']\n"
     ]
    }
   ],
   "source": [
    "print (students)"
   ]
  },
  {
   "cell_type": "code",
   "execution_count": 32,
   "id": "2acf7336",
   "metadata": {},
   "outputs": [
    {
     "name": "stdout",
     "output_type": "stream",
     "text": [
      "['ravi', 'naveed', 'keerthi', 'dolly']\n"
     ]
    }
   ],
   "source": [
    "print(students[0:7:2])"
   ]
  },
  {
   "cell_type": "code",
   "execution_count": null,
   "id": "cf5d307f",
   "metadata": {},
   "outputs": [],
   "source": []
  },
  {
   "cell_type": "code",
   "execution_count": 33,
   "id": "d41581f7",
   "metadata": {},
   "outputs": [
    {
     "name": "stdout",
     "output_type": "stream",
     "text": [
      "['ravi', 'imran', 'dolly']\n"
     ]
    }
   ],
   "source": [
    "print(students[0:7:3])"
   ]
  },
  {
   "cell_type": "code",
   "execution_count": null,
   "id": "9fa16553",
   "metadata": {},
   "outputs": [],
   "source": []
  },
  {
   "cell_type": "code",
   "execution_count": 34,
   "id": "34b0e2af",
   "metadata": {},
   "outputs": [],
   "source": [
    "#above 2 & 3 we took as stepcount means leaves that much elements in the list..."
   ]
  },
  {
   "cell_type": "code",
   "execution_count": null,
   "id": "b01bd0b7",
   "metadata": {},
   "outputs": [],
   "source": []
  }
 ],
 "metadata": {
  "kernelspec": {
   "display_name": "Python 3 (ipykernel)",
   "language": "python",
   "name": "python3"
  },
  "language_info": {
   "codemirror_mode": {
    "name": "ipython",
    "version": 3
   },
   "file_extension": ".py",
   "mimetype": "text/x-python",
   "name": "python",
   "nbconvert_exporter": "python",
   "pygments_lexer": "ipython3",
   "version": "3.9.7"
  }
 },
 "nbformat": 4,
 "nbformat_minor": 5
}
